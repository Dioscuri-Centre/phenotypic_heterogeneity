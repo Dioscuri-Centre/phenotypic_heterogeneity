{
 "cells": [
  {
   "cell_type": "markdown",
   "id": "7781c33c-7531-446d-80d1-da0b5d3e6cdc",
   "metadata": {
    "deletable": true,
    "editable": true,
    "frozen": false
   },
   "source": [
    "# Main imports"
   ]
  },
  {
   "cell_type": "code",
   "execution_count": 1,
   "id": "98bc651b-6229-4704-9cd6-321416678be4",
   "metadata": {
    "deletable": true,
    "editable": true,
    "frozen": false
   },
   "outputs": [],
   "source": [
    "%load_ext autoreload\n",
    "%autoreload 2"
   ]
  },
  {
   "cell_type": "code",
   "execution_count": 2,
   "id": "b2212364-9c1d-4a65-a9f8-4cfba3df9626",
   "metadata": {
    "deletable": true,
    "editable": true,
    "frozen": false
   },
   "outputs": [],
   "source": [
    "# Enable interactive plots mode (NOT advised because it slows down everything down)\n",
    "#%matplotlib widget\n",
    "%matplotlib inline"
   ]
  },
  {
   "cell_type": "code",
   "execution_count": 3,
   "id": "49c800b4-45a6-4ba4-b3fa-36d3691aadda",
   "metadata": {
    "deletable": true,
    "editable": true,
    "frozen": false
   },
   "outputs": [
    {
     "name": "stderr",
     "output_type": "stream",
     "text": [
      "WARNING:root:Pytorch pre-release version 1.13.0.post200 - assuming intent to test it\n",
      "WARNING:root:Pytorch pre-release version 1.13.0.post200 - assuming intent to test it\n"
     ]
    }
   ],
   "source": [
    "# Imports \n",
    "from glob import glob\n",
    "import os\n",
    "# fix for ete \n",
    "os.environ['QT_QPA_PLATFORM']='offscreen'\n",
    "\n",
    "import cv2\n",
    "import numpy as np \n",
    "import sys\n",
    "import scipy\n",
    "import matplotlib as mpl\n",
    "mpl.rcParams['figure.dpi'] = 100\n",
    "import matplotlib.pyplot as plt\n",
    "# switch   to the dark side\n",
    "#plt.style.use('dark_background')\n",
    "from mltools.batch_processing import open_dets\n",
    "\n",
    "import gc\n",
    "from tifffile import TiffWriter,TiffFile, imwrite,imread\n",
    "import torch\n",
    "import copy\n",
    "from IPython.display import clear_output # this modules allows to flush output\n",
    "# from tqdm import tqdm \n",
    "from tqdm.notebook import trange, tqdm\n",
    "from glob import glob\n",
    "sys.path.append('../utils')\n",
    "from track_fns import load_tree\n",
    "from fluo_extraction_fns import *\n"
   ]
  },
  {
   "cell_type": "markdown",
   "id": "6367f855-278d-4183-b876-973b8bef0c21",
   "metadata": {
    "deletable": true,
    "editable": true,
    "frozen": false
   },
   "source": [
    "# Process an experiment"
   ]
  },
  {
   "cell_type": "code",
   "execution_count": 4,
   "id": "0b85b85f-6ad7-4961-a6ea-2cdbc1cc3d65",
   "metadata": {
    "deletable": true,
    "editable": true,
    "frozen": false
   },
   "outputs": [],
   "source": [
    "import cv2\n",
    "from detectron2.structures import Boxes\n",
    "import matplotlib.pyplot as plt\n",
    "import sys\n",
    "import pickle\n",
    "import argparse\n",
    "\n",
    "import numpy as np\n",
    "from matplotlib import pyplot as plt\n",
    "from LineageTree import lineageTree\n",
    "import scipy.stats as stats\n",
    "import xml.etree.ElementTree as ET\n",
    "from functools import partial\n",
    "from tqdm.contrib.concurrent import process_map\n",
    "import pickle\n",
    "from concurrent.futures import ThreadPoolExecutor\n",
    "from threading import Lock\n",
    "import warnings\n",
    "from image_helpers import dask_img\n",
    "from fluo_extraction_fns import process_det\n",
    "from tqdm.auto import tqdm\n",
    "import concurrent.futures\n",
    "import zarr\n",
    "from os.path import basename,dirname\n"
   ]
  },
  {
   "cell_type": "markdown",
   "id": "97a2c6ec-ae4a-4ae5-84ea-4d010ac1ea56",
   "metadata": {
    "deletable": true,
    "editable": true,
    "frozen": false
   },
   "source": [
    "## Load trackmate XML in a tree file (500 uM TMZ)"
   ]
  },
  {
   "cell_type": "markdown",
   "id": "e48117fc-8981-480f-a76f-c15e1d7eca55",
   "metadata": {
    "deletable": true,
    "editable": true,
    "frozen": false
   },
   "source": [
    "## Step #1 Segment all objects contained in tracks  "
   ]
  },
  {
   "cell_type": "code",
   "execution_count": 18,
   "id": "f2de61c1-bbb6-4b99-99c8-0f264ce9c01b",
   "metadata": {
    "deletable": true,
    "editable": true,
    "frozen": false
   },
   "outputs": [
    {
     "name": "stdout",
     "output_type": "stream",
     "text": [
      "Automatic pdb calling has been turned ON\n"
     ]
    }
   ],
   "source": [
    "%pdb"
   ]
  },
  {
   "cell_type": "code",
   "execution_count": 35,
   "id": "aab6eb21-be58-43f9-adcb-3120dc3ef83e",
   "metadata": {
    "deletable": true,
    "editable": true,
    "frozen": false
   },
   "outputs": [
    {
     "name": "stdout",
     "output_type": "stream",
     "text": [
      "/mnt/dioscuri-nas/Ilyas/Stitched_wells/54PD_downscaled/well_C5.tif /mnt/dioscuri-nas/Ilyas/Stitched_wells/54PD_downscaled/well_C5_c2.tif /mnt/dioscuri-nas/Ilyas/Stitched_wells/54PD_downscaled/processed/well_C5_control_high3_dets.bin /mnt/dioscuri-nas/Ilyas/Stitched_wells/54PD_downscaled/processed/well_C5_control_high3_fluo_dat.bin\n",
      "time step: 60.0 min pixel size: [1. 1.] um\n"
     ]
    },
    {
     "data": {
      "application/json": {
       "ascii": false,
       "bar_format": null,
       "colour": null,
       "elapsed": 0.0028052330017089844,
       "initial": 0,
       "n": 0,
       "ncols": null,
       "nrows": 40,
       "postfix": null,
       "prefix": "",
       "rate": null,
       "total": 75,
       "unit": "it",
       "unit_divisor": 1000,
       "unit_scale": false
      },
      "application/vnd.jupyter.widget-view+json": {
       "model_id": "882a5211223540918a97f42a4e0dc0b5",
       "version_major": 2,
       "version_minor": 0
      },
      "text/plain": [
       "  0%|          | 0/75 [00:00<?, ?it/s]"
      ]
     },
     "metadata": {},
     "output_type": "display_data"
    },
    {
     "data": {
      "application/json": {
       "ascii": false,
       "bar_format": null,
       "colour": null,
       "elapsed": 0.003043651580810547,
       "initial": 0,
       "n": 0,
       "ncols": null,
       "nrows": 40,
       "postfix": null,
       "prefix": "",
       "rate": null,
       "total": null,
       "unit": "it",
       "unit_divisor": 1000,
       "unit_scale": false
      },
      "application/vnd.jupyter.widget-view+json": {
       "model_id": "d6801d9617b94f668bbd447f059c609f",
       "version_major": 2,
       "version_minor": 0
      },
      "text/plain": [
       "0it [00:00, ?it/s]"
      ]
     },
     "metadata": {},
     "output_type": "display_data"
    }
   ],
   "source": [
    "xmls = ('/mnt/dioscuri-nas/Ilyas/Stitched_wells/54PD_downscaled/well_C6_control3_high.xml',\n",
    "        '/mnt/dioscuri-nas/Ilyas/Stitched_wells/54PD_downscaled/well_C6_non_fluorescent5.xml',\n",
    "        '/mnt/dioscuri-nas/Ilyas/Stitched_wells/54PD_downscaled/well_F5_TMZ_high5.xml',\n",
    "        '/mnt/dioscuri-nas/Ilyas/Stitched_wells/54PD_downscaled/well_F5_TMZ_low8.xml',\n",
    "        '/mnt/dioscuri-nas/Ilyas/Stitched_wells/54PD_downscaled/well_F6_TMZ5_high4.xml',\n",
    "        '/mnt/dioscuri-nas/Ilyas/Stitched_wells/54PD_downscaled/well_F6_TMZ_non_fluorscent2.xml',\n",
    "        '/mnt/dioscuri-nas/Ilyas/Stitched_wells/54PD_downscaled/well_C5_control_high3.xml',\n",
    "       )\n",
    "tifs_bf = ( '/mnt/dioscuri-nas/Ilyas/Stitched_wells/54PD_downscaled/well_C6.tif',\n",
    "            '/mnt/dioscuri-nas/Ilyas/Stitched_wells/54PD_downscaled/well_C6.tif',\n",
    "            '/mnt/dioscuri-nas/Ilyas/Stitched_wells/54PD_downscaled/well_F5.tif',\n",
    "            '/mnt/dioscuri-nas/Ilyas/Stitched_wells/54PD_downscaled/well_F5.tif',\n",
    "            '/mnt/dioscuri-nas/Ilyas/Stitched_wells/54PD_downscaled/well_F6.tif',\n",
    "            '/mnt/dioscuri-nas/Ilyas/Stitched_wells/54PD_downscaled/well_F6.tif',\n",
    "            '/mnt/dioscuri-nas/Ilyas/Stitched_wells/54PD_downscaled/well_C5.tif',\n",
    "            )\n",
    "assert len(xmls) == len(tifs_bf)\n",
    "\n",
    "for xml,tif in zip(xmls,tifs_bf):\n",
    "    folder = dirname(tif)\n",
    "    tif_ff = os.path.join(folder,'flatfield/',basename(tif).replace('.tif','_c2_flatfield.tif'))\n",
    "    tif_fluo = os.path.join(folder,basename(tif).replace('.tif','_c2.tif'))\n",
    "    out_dets = os.path.join(folder,'processed/',basename(xml).replace('.xml','_dets.bin'))\n",
    "    out_fluos =  os.path.join(folder,'processed/',basename(xml).replace('.xml','_fluo_dat.bin'))\n",
    "    if os.path.isfile(out_fluos) and os.path.isfile(out_dets):\n",
    "        continue\n",
    "    assert os.path.isfile(tif_fluo), tif_fluo\n",
    "    assert os.path.isfile(tif_ff), tif_ff\n",
    "    assert tif_fluo != tif\n",
    "    assert out_fluos != out_dets != tif != xml\n",
    "    print(tif,tif_fluo,out_dets,out_fluos)  \n",
    "    \n",
    "    tree,root = load_tree(xml)\n",
    "    imgs_bf = dask_img(tif)\n",
    "    imgs = dask_img(tif_fluo)\n",
    "    flatfield = dask_img(tif_ff)\n",
    "    assert imgs_bf.shape == imgs.shape == flatfield.shape \n",
    "    \n",
    "    # segment with SAM\n",
    "    if os.path.isfile(out_dets):\n",
    "        dets = open_dets(out_dets)\n",
    "    else:\n",
    "        dets = trackmate_track_to_detections(tree,root,imgs_bf,out_dets)\n",
    "    # then extract fluorescence \n",
    "    fnames_template = None\n",
    "\n",
    "    # Then crop and extract the cell mask,background etc.\n",
    "    with open(out_fluos,'wb') as f: \n",
    "        lock = Lock()\n",
    "        futures = {}\n",
    "        with ThreadPoolExecutor(max_workers=25) as executor: #15 threads uses ~50% of the available memory for a 13000*11000 image\n",
    "            for det in dets:\n",
    "                t = det.coords['t']\n",
    "                futures[ executor.submit(process_det,det,imgs[t],imgs_bf[t],f,lock,flatfield=flatfield[t])] = t \n",
    "            for future in tqdm(concurrent.futures.as_completed(futures)):\n",
    "                continue\n",
    "    # run sequentially (for debugging)\n",
    "    # with open(out_fluos,'wb') as f: \n",
    "    #     lock = Lock()   \n",
    "    #     for det in dets:\n",
    "    #         t = det.coords['t']\n",
    "    #         process_det(det,imgs[t],imgs_bf[t],f,lock,flatfield=flatfield[t])"
   ]
  },
  {
   "cell_type": "code",
   "execution_count": 16,
   "id": "6f7e0b9c-1655-4e04-80ff-c64b55be0df8",
   "metadata": {
    "deletable": true,
    "editable": true,
    "frozen": false
   },
   "outputs": [],
   "source": [
    "ret = extract_reg_from_det_single_masks(det,imgs[det.coords['t']],imgs_bf[det.coords['t']],flatfield[det.coords['t']])"
   ]
  },
  {
   "cell_type": "code",
   "execution_count": 70,
   "id": "cadb4dc4-be7b-4707-8749-e733cfd7a6ea",
   "metadata": {
    "deletable": true,
    "editable": true,
    "frozen": false
   },
   "outputs": [
    {
     "data": {
      "application/json": {
       "ascii": false,
       "bar_format": null,
       "colour": null,
       "elapsed": 0.0029153823852539062,
       "initial": 0,
       "n": 0,
       "ncols": null,
       "nrows": 53,
       "postfix": null,
       "prefix": "",
       "rate": null,
       "total": 74,
       "unit": "it",
       "unit_divisor": 1000,
       "unit_scale": false
      },
      "application/vnd.jupyter.widget-view+json": {
       "model_id": "f0a65b974de243da9128ea6f235939a4",
       "version_major": 2,
       "version_minor": 0
      },
      "text/plain": [
       "  0%|          | 0/74 [00:00<?, ?it/s]"
      ]
     },
     "metadata": {},
     "output_type": "display_data"
    }
   ],
   "source": [
    "# run detection and save it save the detection objects\n",
    "out_bin = '/mnt/dioscuri-nas/Ilyas/Results/Cells/54PD_wellC6_all_dets.bin'\n",
    "dets = trackmate_track_to_detections(tree,root,imgs_bf,out_bin)"
   ]
  },
  {
   "cell_type": "code",
   "execution_count": 13,
   "id": "e7abd0e1-7507-42e2-9fe0-084a723a50f8",
   "metadata": {
    "deletable": true,
    "editable": true,
    "frozen": false
   },
   "outputs": [],
   "source": [
    "dets = open_dets('/mnt/dioscuri-nas/Ilyas/Stitched_wells/54PD_downscaled/processed/well_F5_TMZ_high5_dets.bin')"
   ]
  },
  {
   "cell_type": "code",
   "execution_count": 14,
   "id": "a113bf8d-fcb0-4c2f-a654-b5a1568706e0",
   "metadata": {
    "deletable": true,
    "editable": true,
    "frozen": false
   },
   "outputs": [
    {
     "name": "stdout",
     "output_type": "stream",
     "text": [
      "{}\n"
     ]
    }
   ],
   "source": [
    "# Save to ROIs for a quick check\n",
    "rois= save_to_ImageJ_ROIs(dets,'/mnt/dioscuri-nas/Ilyas/Stitched_wells/54PD_downscaled/processed/well_F5_TMZ_high5_dets.zip',categories=None)"
   ]
  },
  {
   "cell_type": "markdown",
   "id": "64239dc9-3052-4ae1-b47d-230d960b0d37",
   "metadata": {
    "deletable": true,
    "editable": true,
    "frozen": false
   },
   "source": [
    "## Step #2: crop and extract fluorescence around the cell"
   ]
  },
  {
   "cell_type": "code",
   "execution_count": 71,
   "id": "ce66a288-1726-467e-ad87-f9c3261f00e9",
   "metadata": {
    "deletable": true,
    "editable": true,
    "frozen": false
   },
   "outputs": [
    {
     "data": {
      "application/json": {
       "ascii": false,
       "bar_format": null,
       "colour": null,
       "elapsed": 0.003961324691772461,
       "initial": 0,
       "n": 0,
       "ncols": null,
       "nrows": 53,
       "postfix": null,
       "prefix": "",
       "rate": null,
       "total": null,
       "unit": "it",
       "unit_divisor": 1000,
       "unit_scale": false
      },
      "application/vnd.jupyter.widget-view+json": {
       "model_id": "6213251c834e46fab2f3e07579b6370a",
       "version_major": 2,
       "version_minor": 0
      },
      "text/plain": [
       "0it [00:00, ?it/s]"
      ]
     },
     "metadata": {},
     "output_type": "display_data"
    }
   ],
   "source": [
    "fnames_template = None #'/mnt/dioscuri-nas/Ilyas/Stitched_wells/36PD_timelapse_red_only/well_15/img_t{:04d}_z1_c1'\n",
    "with open('/mnt/dioscuri-nas/Ilyas/Results/Cells/54PD_wellC6_all_cells_imgs_w_fit_bg_new.bin','wb') as f: \n",
    "    lock = Lock()\n",
    "    futures = {}\n",
    "    with ThreadPoolExecutor(max_workers=25) as executor: #15 threads uses ~50% of the available memory for a 13000*11000 image\n",
    "        for det in dets:\n",
    "            t = det.coords['t']\n",
    "            futures[ executor.submit(process_det,det,imgs[t],imgs_bf[t],f,lock,flatfield=False)] = t \n",
    "        for future in tqdm(concurrent.futures.as_completed(futures)):\n",
    "            continue\n"
   ]
  },
  {
   "cell_type": "code",
   "execution_count": null,
   "id": "1aae56f0-eb23-4ca4-b561-b19c7f1b8bf3",
   "metadata": {
    "deletable": true,
    "editable": true,
    "frozen": false
   },
   "outputs": [],
   "source": [
    "## We cam quickly check the images"
   ]
  },
  {
   "cell_type": "code",
   "execution_count": 9,
   "id": "e1fdf110-1501-4386-887b-ba275dea7395",
   "metadata": {
    "deletable": true,
    "editable": true,
    "frozen": false
   },
   "outputs": [
    {
     "name": "stdout",
     "output_type": "stream",
     "text": [
      "Ran out of input\n"
     ]
    }
   ],
   "source": [
    "dat = load_from_pickle('/mnt/dioscuri-nas/Ilyas/Stitched_wells/54PD_downscaled/processed/well_F5_TMZ_high5_fluo_dat.bin',None)\n",
    "crops = [ e['crop'] for e in dat.values()]\n",
    "crops = [np.where(e.mask,0,e) for e in crops] \n",
    "imwrite('/tmp/54pd_F5_highcells.tif',crops)"
   ]
  },
  {
   "cell_type": "markdown",
   "id": "e5776921-f13a-43f0-881a-f819a4871e58",
   "metadata": {
    "deletable": true,
    "editable": true,
    "frozen": false
   },
   "source": [
    "# Bonus: find the coordinates of the region Pragyesh cropped ( we need them to get the red channel)..."
   ]
  },
  {
   "cell_type": "code",
   "execution_count": 16,
   "id": "faec7291-3f8f-4d04-9e11-37d7c808d66d",
   "metadata": {
    "deletable": true,
    "editable": true,
    "frozen": false
   },
   "outputs": [],
   "source": [
    "from utils.image_helpers import alignImages"
   ]
  },
  {
   "cell_type": "code",
   "execution_count": 18,
   "id": "e7b753c0-db12-4104-8a2a-1dbd81e82efb",
   "metadata": {
    "deletable": true,
    "editable": true,
    "frozen": false
   },
   "outputs": [
    {
     "ename": "NameError",
     "evalue": "name 'da' is not defined",
     "output_type": "error",
     "traceback": [
      "\u001b[0;31m---------------------------------------------------------------------------\u001b[0m",
      "\u001b[0;31mNameError\u001b[0m                                 Traceback (most recent call last)",
      "Cell \u001b[0;32mIn[18], line 9\u001b[0m\n\u001b[1;32m      5\u001b[0m \u001b[38;5;66;03m# Read image to be aligned\u001b[39;00m\n\u001b[1;32m      6\u001b[0m \u001b[38;5;66;03m# imFilename = \"scanned-form.jpg\"\u001b[39;00m\n\u001b[1;32m      7\u001b[0m \u001b[38;5;66;03m# print(\"Reading image to align : \", imFilename);\u001b[39;00m\n\u001b[1;32m      8\u001b[0m im \u001b[38;5;241m=\u001b[39m dask\u001b[38;5;241m.\u001b[39marray\u001b[38;5;241m.\u001b[39mfrom_zarr(imread(\u001b[38;5;124m'\u001b[39m\u001b[38;5;124m/mnt/dioscuri-nas/Ilyas/Stitched_wells/40PD_U87MG_mgmt-OFP_cells_with_filtered_media_BF_only_split_timepoints2/well_4_corrected_crop.tif\u001b[39m\u001b[38;5;124m'\u001b[39m,aszarr\u001b[38;5;241m=\u001b[39m\u001b[38;5;28;01mTrue\u001b[39;00m))[\u001b[38;5;241m0\u001b[39m]\u001b[38;5;241m.\u001b[39mcompute()\n\u001b[0;32m----> 9\u001b[0m im  \u001b[38;5;241m=\u001b[39m \u001b[43mda\u001b[49m[\u001b[38;5;241m0\u001b[39m]\u001b[38;5;241m.\u001b[39mcompute()\n\u001b[1;32m     11\u001b[0m \u001b[38;5;28mprint\u001b[39m(\u001b[38;5;124m\"\u001b[39m\u001b[38;5;124mAligning images ...\u001b[39m\u001b[38;5;124m\"\u001b[39m)\n\u001b[1;32m     12\u001b[0m \u001b[38;5;66;03m# Registered image will be resotred in imReg.\u001b[39;00m\n\u001b[1;32m     13\u001b[0m \u001b[38;5;66;03m# The estimated homography will be stored in h.\u001b[39;00m\n",
      "\u001b[0;31mNameError\u001b[0m: name 'da' is not defined"
     ]
    }
   ],
   "source": [
    "# Read reference image\n",
    "# imReference = cv2.imread(refFilename, cv2.IMREAD_COLOR)\n",
    "imReference = imread('/mnt/dioscuri-nas/Ilyas/Stitched_wells/40PD_U87MG_mgmt-OFP_cells_with_filtered_media_BF_only_split_timepoints2/Cells_with_100ul_media_2/well_4/img_t0_z1_c1')\n",
    "im = dask.array.from_zarr(imread('/mnt/dioscuri-nas/Ilyas/Stitched_wells/40PD_U87MG_mgmt-OFP_cells_with_filtered_media_BF_only_split_timepoints2/well_4_corrected_crop.tif',aszarr=True))[0].compute()\n",
    "\n",
    "print(\"Aligning images ...\")\n",
    "# Registered image will be resotred in imReg.\n",
    "# The estimated homography will be stored in h.\n",
    "h,mask = alignImages((im/256).astype(np.uint8), (imReference/256).astype(np.uint8))\n"
   ]
  },
  {
   "cell_type": "code",
   "execution_count": 19,
   "id": "c8a8fdc2-a506-4fbf-99db-acea023c7f3f",
   "metadata": {
    "deletable": true,
    "editable": true,
    "frozen": false
   },
   "outputs": [
    {
     "name": "stdout",
     "output_type": "stream",
     "text": [
      "Aligning images ...\n"
     ]
    }
   ],
   "source": [
    "print(\"Aligning images ...\")\n",
    "# Registered image will be resotred in imReg.\n",
    "# The estimated homography will be stored in h.\n",
    "h,mask = alignImages((im/256).astype(np.uint8), (imReference/256).astype(np.uint8))\n"
   ]
  },
  {
   "cell_type": "code",
   "execution_count": 21,
   "id": "fcba26ff-5211-48b8-a328-c498b4489874",
   "metadata": {
    "deletable": true,
    "editable": true,
    "frozen": false
   },
   "outputs": [
    {
     "data": {
      "text/plain": [
       "(array([[ 1.00001463e+00,  2.91372522e-05,  3.81588233e+03],\n",
       "        [-3.03654248e-06,  1.00005596e+00,  5.68798869e+03],\n",
       "        [-1.07259627e-10,  3.54794082e-09,  1.00000000e+00]]),\n",
       " (10920, 11088))"
      ]
     },
     "execution_count": 21,
     "metadata": {},
     "output_type": "execute_result"
    }
   ],
   "source": [
    "# for well 4\n",
    "h,im.shape"
   ]
  },
  {
   "cell_type": "code",
   "execution_count": 206,
   "id": "620fed8b-6ceb-4b53-936c-d5f3c2a59760",
   "metadata": {
    "deletable": true,
    "editable": true,
    "frozen": false
   },
   "outputs": [
    {
     "data": {
      "text/plain": [
       "(array([[9.99994191e-01, 2.03591964e-06, 2.78400620e+03],\n",
       "        [2.01566904e-07, 1.00000339e+00, 3.74399545e+03],\n",
       "        [3.18555259e-11, 2.25708153e-10, 1.00000000e+00]]),\n",
       " (11136, 13088))"
      ]
     },
     "execution_count": 206,
     "metadata": {},
     "output_type": "execute_result"
    }
   ],
   "source": [
    "# for welll 7\n",
    "h,img.shape"
   ]
  },
  {
   "cell_type": "code",
   "execution_count": 19,
   "id": "b9809802-f4af-45c1-adfc-4b15eedfcea5",
   "metadata": {
    "deletable": true,
    "editable": true,
    "frozen": false
   },
   "outputs": [],
   "source": [
    "from utils.fluo_extraction_fns import some_function"
   ]
  },
  {
   "cell_type": "code",
   "execution_count": 23,
   "id": "04100500-78af-430f-a184-31c0ffbb09c3",
   "metadata": {
    "deletable": true,
    "editable": true,
    "frozen": false
   },
   "outputs": [
    {
     "name": "stdout",
     "output_type": "stream",
     "text": [
      "bar3\n"
     ]
    }
   ],
   "source": [
    "some_function()"
   ]
  },
  {
   "cell_type": "code",
   "execution_count": null,
   "id": "cf0ea5ea-e329-497b-ad62-2deabfb4ce0e",
   "metadata": {
    "deletable": true,
    "editable": true,
    "frozen": false
   },
   "outputs": [],
   "source": []
  }
 ],
 "metadata": {
  "kernelspec": {
   "display_name": "Torch",
   "language": "python",
   "name": "torch"
  },
  "language_info": {
   "codemirror_mode": {
    "name": "ipython",
    "version": 3
   },
   "file_extension": ".py",
   "mimetype": "text/x-python",
   "name": "python",
   "nbconvert_exporter": "python",
   "pygments_lexer": "ipython3",
   "version": "3.9.15"
  },
  "toc-autonumbering": true
 },
 "nbformat": 4,
 "nbformat_minor": 5
}
